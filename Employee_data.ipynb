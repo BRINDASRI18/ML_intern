{
  "nbformat": 4,
  "nbformat_minor": 0,
  "metadata": {
    "colab": {
      "provenance": []
    },
    "kernelspec": {
      "name": "python3",
      "display_name": "Python 3"
    },
    "language_info": {
      "name": "python"
    }
  },
  "cells": [
    {
      "cell_type": "code",
      "source": [
        "print(\"*****************************************************DATA LOADING*****************************************************\")\n",
        "import pandas as pd\n",
        "a=pd.read_csv(\"employee_data.csv\")\n",
        "print(\"....................................EMPLOYEE DATA..........................................\")\n",
        "print(a)"
      ],
      "metadata": {
        "colab": {
          "base_uri": "https://localhost:8080/"
        },
        "id": "tpTONXqmVb3O",
        "outputId": "7076f89c-124a-4669-9321-3bd52a64511d"
      },
      "execution_count": null,
      "outputs": [
        {
          "output_type": "stream",
          "name": "stdout",
          "text": [
            "*****************************************************DATA LOADING*****************************************************\n",
            "....................................EMPLOYEE DATA..........................................\n",
            "       satisfaction_level  last_evaluation  number_project  \\\n",
            "0                    0.38             0.53               2   \n",
            "1                    0.80             0.86               5   \n",
            "2                    0.11             0.88               7   \n",
            "3                    0.72             0.87               5   \n",
            "4                    0.37             0.52               2   \n",
            "...                   ...              ...             ...   \n",
            "11577                0.55             0.78               4   \n",
            "11578                0.76             0.56               5   \n",
            "11579                0.53             0.99               3   \n",
            "11580                0.51             0.86               3   \n",
            "11581                0.57             0.93               2   \n",
            "\n",
            "       average_montly_hours  time_spend_company  Work_accident  quit  \\\n",
            "0                       157                   3              0     1   \n",
            "1                       262                   6              0     1   \n",
            "2                       272                   4              0     1   \n",
            "3                       223                   5              0     1   \n",
            "4                       159                   3              0     1   \n",
            "...                     ...                 ...            ...   ...   \n",
            "11577                   261                   3              0     0   \n",
            "11578                   222                  10              0     0   \n",
            "11579                   223                  10              0     0   \n",
            "11580                   182                  10              0     0   \n",
            "11581                   204                  10              0     0   \n",
            "\n",
            "       promotion_last_5years  department  salary  \n",
            "0                        0.0       sales     low  \n",
            "1                        0.0       sales  medium  \n",
            "2                        0.0       sales  medium  \n",
            "3                        0.0       sales     low  \n",
            "4                        0.0       sales     low  \n",
            "...                      ...         ...     ...  \n",
            "11577                    0.0  management    high  \n",
            "11578                    0.0  management    high  \n",
            "11579                    0.0   marketing     low  \n",
            "11580                    0.0       sales     low  \n",
            "11581                    NaN         NaN     NaN  \n",
            "\n",
            "[11582 rows x 10 columns]\n"
          ]
        }
      ]
    },
    {
      "cell_type": "code",
      "source": [
        "print(\"**********************************************DATA PREPROCESSING*****************************************************\")\n",
        "#check missing value\n",
        "a.isna()"
      ],
      "metadata": {
        "colab": {
          "base_uri": "https://localhost:8080/",
          "height": 461
        },
        "id": "4or2FOUqWWrQ",
        "outputId": "bb919f63-bba2-4426-817d-fc33fadcfafa"
      },
      "execution_count": null,
      "outputs": [
        {
          "output_type": "stream",
          "name": "stdout",
          "text": [
            "**********************************************DATA PREPROCESSING*****************************************************\n"
          ]
        },
        {
          "output_type": "execute_result",
          "data": {
            "text/plain": [
              "       satisfaction_level  last_evaluation  number_project  \\\n",
              "0                   False            False           False   \n",
              "1                   False            False           False   \n",
              "2                   False            False           False   \n",
              "3                   False            False           False   \n",
              "4                   False            False           False   \n",
              "...                   ...              ...             ...   \n",
              "11577               False            False           False   \n",
              "11578               False            False           False   \n",
              "11579               False            False           False   \n",
              "11580               False            False           False   \n",
              "11581               False            False           False   \n",
              "\n",
              "       average_montly_hours  time_spend_company  Work_accident   quit  \\\n",
              "0                     False               False          False  False   \n",
              "1                     False               False          False  False   \n",
              "2                     False               False          False  False   \n",
              "3                     False               False          False  False   \n",
              "4                     False               False          False  False   \n",
              "...                     ...                 ...            ...    ...   \n",
              "11577                 False               False          False  False   \n",
              "11578                 False               False          False  False   \n",
              "11579                 False               False          False  False   \n",
              "11580                 False               False          False  False   \n",
              "11581                 False               False          False  False   \n",
              "\n",
              "       promotion_last_5years  department  salary  \n",
              "0                      False       False   False  \n",
              "1                      False       False   False  \n",
              "2                      False       False   False  \n",
              "3                      False       False   False  \n",
              "4                      False       False   False  \n",
              "...                      ...         ...     ...  \n",
              "11577                  False       False   False  \n",
              "11578                  False       False   False  \n",
              "11579                  False       False   False  \n",
              "11580                  False       False   False  \n",
              "11581                   True        True    True  \n",
              "\n",
              "[11582 rows x 10 columns]"
            ],
            "text/html": [
              "\n",
              "  <div id=\"df-77727ab2-1f90-4772-b372-109dfa1d5527\" class=\"colab-df-container\">\n",
              "    <div>\n",
              "<style scoped>\n",
              "    .dataframe tbody tr th:only-of-type {\n",
              "        vertical-align: middle;\n",
              "    }\n",
              "\n",
              "    .dataframe tbody tr th {\n",
              "        vertical-align: top;\n",
              "    }\n",
              "\n",
              "    .dataframe thead th {\n",
              "        text-align: right;\n",
              "    }\n",
              "</style>\n",
              "<table border=\"1\" class=\"dataframe\">\n",
              "  <thead>\n",
              "    <tr style=\"text-align: right;\">\n",
              "      <th></th>\n",
              "      <th>satisfaction_level</th>\n",
              "      <th>last_evaluation</th>\n",
              "      <th>number_project</th>\n",
              "      <th>average_montly_hours</th>\n",
              "      <th>time_spend_company</th>\n",
              "      <th>Work_accident</th>\n",
              "      <th>quit</th>\n",
              "      <th>promotion_last_5years</th>\n",
              "      <th>department</th>\n",
              "      <th>salary</th>\n",
              "    </tr>\n",
              "  </thead>\n",
              "  <tbody>\n",
              "    <tr>\n",
              "      <th>0</th>\n",
              "      <td>False</td>\n",
              "      <td>False</td>\n",
              "      <td>False</td>\n",
              "      <td>False</td>\n",
              "      <td>False</td>\n",
              "      <td>False</td>\n",
              "      <td>False</td>\n",
              "      <td>False</td>\n",
              "      <td>False</td>\n",
              "      <td>False</td>\n",
              "    </tr>\n",
              "    <tr>\n",
              "      <th>1</th>\n",
              "      <td>False</td>\n",
              "      <td>False</td>\n",
              "      <td>False</td>\n",
              "      <td>False</td>\n",
              "      <td>False</td>\n",
              "      <td>False</td>\n",
              "      <td>False</td>\n",
              "      <td>False</td>\n",
              "      <td>False</td>\n",
              "      <td>False</td>\n",
              "    </tr>\n",
              "    <tr>\n",
              "      <th>2</th>\n",
              "      <td>False</td>\n",
              "      <td>False</td>\n",
              "      <td>False</td>\n",
              "      <td>False</td>\n",
              "      <td>False</td>\n",
              "      <td>False</td>\n",
              "      <td>False</td>\n",
              "      <td>False</td>\n",
              "      <td>False</td>\n",
              "      <td>False</td>\n",
              "    </tr>\n",
              "    <tr>\n",
              "      <th>3</th>\n",
              "      <td>False</td>\n",
              "      <td>False</td>\n",
              "      <td>False</td>\n",
              "      <td>False</td>\n",
              "      <td>False</td>\n",
              "      <td>False</td>\n",
              "      <td>False</td>\n",
              "      <td>False</td>\n",
              "      <td>False</td>\n",
              "      <td>False</td>\n",
              "    </tr>\n",
              "    <tr>\n",
              "      <th>4</th>\n",
              "      <td>False</td>\n",
              "      <td>False</td>\n",
              "      <td>False</td>\n",
              "      <td>False</td>\n",
              "      <td>False</td>\n",
              "      <td>False</td>\n",
              "      <td>False</td>\n",
              "      <td>False</td>\n",
              "      <td>False</td>\n",
              "      <td>False</td>\n",
              "    </tr>\n",
              "    <tr>\n",
              "      <th>...</th>\n",
              "      <td>...</td>\n",
              "      <td>...</td>\n",
              "      <td>...</td>\n",
              "      <td>...</td>\n",
              "      <td>...</td>\n",
              "      <td>...</td>\n",
              "      <td>...</td>\n",
              "      <td>...</td>\n",
              "      <td>...</td>\n",
              "      <td>...</td>\n",
              "    </tr>\n",
              "    <tr>\n",
              "      <th>11577</th>\n",
              "      <td>False</td>\n",
              "      <td>False</td>\n",
              "      <td>False</td>\n",
              "      <td>False</td>\n",
              "      <td>False</td>\n",
              "      <td>False</td>\n",
              "      <td>False</td>\n",
              "      <td>False</td>\n",
              "      <td>False</td>\n",
              "      <td>False</td>\n",
              "    </tr>\n",
              "    <tr>\n",
              "      <th>11578</th>\n",
              "      <td>False</td>\n",
              "      <td>False</td>\n",
              "      <td>False</td>\n",
              "      <td>False</td>\n",
              "      <td>False</td>\n",
              "      <td>False</td>\n",
              "      <td>False</td>\n",
              "      <td>False</td>\n",
              "      <td>False</td>\n",
              "      <td>False</td>\n",
              "    </tr>\n",
              "    <tr>\n",
              "      <th>11579</th>\n",
              "      <td>False</td>\n",
              "      <td>False</td>\n",
              "      <td>False</td>\n",
              "      <td>False</td>\n",
              "      <td>False</td>\n",
              "      <td>False</td>\n",
              "      <td>False</td>\n",
              "      <td>False</td>\n",
              "      <td>False</td>\n",
              "      <td>False</td>\n",
              "    </tr>\n",
              "    <tr>\n",
              "      <th>11580</th>\n",
              "      <td>False</td>\n",
              "      <td>False</td>\n",
              "      <td>False</td>\n",
              "      <td>False</td>\n",
              "      <td>False</td>\n",
              "      <td>False</td>\n",
              "      <td>False</td>\n",
              "      <td>False</td>\n",
              "      <td>False</td>\n",
              "      <td>False</td>\n",
              "    </tr>\n",
              "    <tr>\n",
              "      <th>11581</th>\n",
              "      <td>False</td>\n",
              "      <td>False</td>\n",
              "      <td>False</td>\n",
              "      <td>False</td>\n",
              "      <td>False</td>\n",
              "      <td>False</td>\n",
              "      <td>False</td>\n",
              "      <td>True</td>\n",
              "      <td>True</td>\n",
              "      <td>True</td>\n",
              "    </tr>\n",
              "  </tbody>\n",
              "</table>\n",
              "<p>11582 rows × 10 columns</p>\n",
              "</div>\n",
              "    <div class=\"colab-df-buttons\">\n",
              "\n",
              "  <div class=\"colab-df-container\">\n",
              "    <button class=\"colab-df-convert\" onclick=\"convertToInteractive('df-77727ab2-1f90-4772-b372-109dfa1d5527')\"\n",
              "            title=\"Convert this dataframe to an interactive table.\"\n",
              "            style=\"display:none;\">\n",
              "\n",
              "  <svg xmlns=\"http://www.w3.org/2000/svg\" height=\"24px\" viewBox=\"0 -960 960 960\">\n",
              "    <path d=\"M120-120v-720h720v720H120Zm60-500h600v-160H180v160Zm220 220h160v-160H400v160Zm0 220h160v-160H400v160ZM180-400h160v-160H180v160Zm440 0h160v-160H620v160ZM180-180h160v-160H180v160Zm440 0h160v-160H620v160Z\"/>\n",
              "  </svg>\n",
              "    </button>\n",
              "\n",
              "  <style>\n",
              "    .colab-df-container {\n",
              "      display:flex;\n",
              "      gap: 12px;\n",
              "    }\n",
              "\n",
              "    .colab-df-convert {\n",
              "      background-color: #E8F0FE;\n",
              "      border: none;\n",
              "      border-radius: 50%;\n",
              "      cursor: pointer;\n",
              "      display: none;\n",
              "      fill: #1967D2;\n",
              "      height: 32px;\n",
              "      padding: 0 0 0 0;\n",
              "      width: 32px;\n",
              "    }\n",
              "\n",
              "    .colab-df-convert:hover {\n",
              "      background-color: #E2EBFA;\n",
              "      box-shadow: 0px 1px 2px rgba(60, 64, 67, 0.3), 0px 1px 3px 1px rgba(60, 64, 67, 0.15);\n",
              "      fill: #174EA6;\n",
              "    }\n",
              "\n",
              "    .colab-df-buttons div {\n",
              "      margin-bottom: 4px;\n",
              "    }\n",
              "\n",
              "    [theme=dark] .colab-df-convert {\n",
              "      background-color: #3B4455;\n",
              "      fill: #D2E3FC;\n",
              "    }\n",
              "\n",
              "    [theme=dark] .colab-df-convert:hover {\n",
              "      background-color: #434B5C;\n",
              "      box-shadow: 0px 1px 3px 1px rgba(0, 0, 0, 0.15);\n",
              "      filter: drop-shadow(0px 1px 2px rgba(0, 0, 0, 0.3));\n",
              "      fill: #FFFFFF;\n",
              "    }\n",
              "  </style>\n",
              "\n",
              "    <script>\n",
              "      const buttonEl =\n",
              "        document.querySelector('#df-77727ab2-1f90-4772-b372-109dfa1d5527 button.colab-df-convert');\n",
              "      buttonEl.style.display =\n",
              "        google.colab.kernel.accessAllowed ? 'block' : 'none';\n",
              "\n",
              "      async function convertToInteractive(key) {\n",
              "        const element = document.querySelector('#df-77727ab2-1f90-4772-b372-109dfa1d5527');\n",
              "        const dataTable =\n",
              "          await google.colab.kernel.invokeFunction('convertToInteractive',\n",
              "                                                    [key], {});\n",
              "        if (!dataTable) return;\n",
              "\n",
              "        const docLinkHtml = 'Like what you see? Visit the ' +\n",
              "          '<a target=\"_blank\" href=https://colab.research.google.com/notebooks/data_table.ipynb>data table notebook</a>'\n",
              "          + ' to learn more about interactive tables.';\n",
              "        element.innerHTML = '';\n",
              "        dataTable['output_type'] = 'display_data';\n",
              "        await google.colab.output.renderOutput(dataTable, element);\n",
              "        const docLink = document.createElement('div');\n",
              "        docLink.innerHTML = docLinkHtml;\n",
              "        element.appendChild(docLink);\n",
              "      }\n",
              "    </script>\n",
              "  </div>\n",
              "\n",
              "\n",
              "<div id=\"df-15b923ef-237f-43a5-a1e3-04202b1ff271\">\n",
              "  <button class=\"colab-df-quickchart\" onclick=\"quickchart('df-15b923ef-237f-43a5-a1e3-04202b1ff271')\"\n",
              "            title=\"Suggest charts.\"\n",
              "            style=\"display:none;\">\n",
              "\n",
              "<svg xmlns=\"http://www.w3.org/2000/svg\" height=\"24px\"viewBox=\"0 0 24 24\"\n",
              "     width=\"24px\">\n",
              "    <g>\n",
              "        <path d=\"M19 3H5c-1.1 0-2 .9-2 2v14c0 1.1.9 2 2 2h14c1.1 0 2-.9 2-2V5c0-1.1-.9-2-2-2zM9 17H7v-7h2v7zm4 0h-2V7h2v10zm4 0h-2v-4h2v4z\"/>\n",
              "    </g>\n",
              "</svg>\n",
              "  </button>\n",
              "\n",
              "<style>\n",
              "  .colab-df-quickchart {\n",
              "      --bg-color: #E8F0FE;\n",
              "      --fill-color: #1967D2;\n",
              "      --hover-bg-color: #E2EBFA;\n",
              "      --hover-fill-color: #174EA6;\n",
              "      --disabled-fill-color: #AAA;\n",
              "      --disabled-bg-color: #DDD;\n",
              "  }\n",
              "\n",
              "  [theme=dark] .colab-df-quickchart {\n",
              "      --bg-color: #3B4455;\n",
              "      --fill-color: #D2E3FC;\n",
              "      --hover-bg-color: #434B5C;\n",
              "      --hover-fill-color: #FFFFFF;\n",
              "      --disabled-bg-color: #3B4455;\n",
              "      --disabled-fill-color: #666;\n",
              "  }\n",
              "\n",
              "  .colab-df-quickchart {\n",
              "    background-color: var(--bg-color);\n",
              "    border: none;\n",
              "    border-radius: 50%;\n",
              "    cursor: pointer;\n",
              "    display: none;\n",
              "    fill: var(--fill-color);\n",
              "    height: 32px;\n",
              "    padding: 0;\n",
              "    width: 32px;\n",
              "  }\n",
              "\n",
              "  .colab-df-quickchart:hover {\n",
              "    background-color: var(--hover-bg-color);\n",
              "    box-shadow: 0 1px 2px rgba(60, 64, 67, 0.3), 0 1px 3px 1px rgba(60, 64, 67, 0.15);\n",
              "    fill: var(--button-hover-fill-color);\n",
              "  }\n",
              "\n",
              "  .colab-df-quickchart-complete:disabled,\n",
              "  .colab-df-quickchart-complete:disabled:hover {\n",
              "    background-color: var(--disabled-bg-color);\n",
              "    fill: var(--disabled-fill-color);\n",
              "    box-shadow: none;\n",
              "  }\n",
              "\n",
              "  .colab-df-spinner {\n",
              "    border: 2px solid var(--fill-color);\n",
              "    border-color: transparent;\n",
              "    border-bottom-color: var(--fill-color);\n",
              "    animation:\n",
              "      spin 1s steps(1) infinite;\n",
              "  }\n",
              "\n",
              "  @keyframes spin {\n",
              "    0% {\n",
              "      border-color: transparent;\n",
              "      border-bottom-color: var(--fill-color);\n",
              "      border-left-color: var(--fill-color);\n",
              "    }\n",
              "    20% {\n",
              "      border-color: transparent;\n",
              "      border-left-color: var(--fill-color);\n",
              "      border-top-color: var(--fill-color);\n",
              "    }\n",
              "    30% {\n",
              "      border-color: transparent;\n",
              "      border-left-color: var(--fill-color);\n",
              "      border-top-color: var(--fill-color);\n",
              "      border-right-color: var(--fill-color);\n",
              "    }\n",
              "    40% {\n",
              "      border-color: transparent;\n",
              "      border-right-color: var(--fill-color);\n",
              "      border-top-color: var(--fill-color);\n",
              "    }\n",
              "    60% {\n",
              "      border-color: transparent;\n",
              "      border-right-color: var(--fill-color);\n",
              "    }\n",
              "    80% {\n",
              "      border-color: transparent;\n",
              "      border-right-color: var(--fill-color);\n",
              "      border-bottom-color: var(--fill-color);\n",
              "    }\n",
              "    90% {\n",
              "      border-color: transparent;\n",
              "      border-bottom-color: var(--fill-color);\n",
              "    }\n",
              "  }\n",
              "</style>\n",
              "\n",
              "  <script>\n",
              "    async function quickchart(key) {\n",
              "      const quickchartButtonEl =\n",
              "        document.querySelector('#' + key + ' button');\n",
              "      quickchartButtonEl.disabled = true;  // To prevent multiple clicks.\n",
              "      quickchartButtonEl.classList.add('colab-df-spinner');\n",
              "      try {\n",
              "        const charts = await google.colab.kernel.invokeFunction(\n",
              "            'suggestCharts', [key], {});\n",
              "      } catch (error) {\n",
              "        console.error('Error during call to suggestCharts:', error);\n",
              "      }\n",
              "      quickchartButtonEl.classList.remove('colab-df-spinner');\n",
              "      quickchartButtonEl.classList.add('colab-df-quickchart-complete');\n",
              "    }\n",
              "    (() => {\n",
              "      let quickchartButtonEl =\n",
              "        document.querySelector('#df-15b923ef-237f-43a5-a1e3-04202b1ff271 button');\n",
              "      quickchartButtonEl.style.display =\n",
              "        google.colab.kernel.accessAllowed ? 'block' : 'none';\n",
              "    })();\n",
              "  </script>\n",
              "</div>\n",
              "    </div>\n",
              "  </div>\n"
            ]
          },
          "metadata": {},
          "execution_count": 13
        }
      ]
    },
    {
      "cell_type": "code",
      "source": [
        "#fill with 0\n",
        "a[\"promotion_last_5years\"]=a[\"promotion_last_5years\"].fillna(0)\n",
        "a[\"department\"]=a[\"department\"].fillna(\"0\")\n",
        "a[\"salary\"]=a[\"salary\"].fillna(\"0\")\n",
        "a.isna()"
      ],
      "metadata": {
        "colab": {
          "base_uri": "https://localhost:8080/",
          "height": 444
        },
        "id": "FVy1PwcZbALz",
        "outputId": "419b7cbd-5c36-442b-ffcd-fb3c21c58d0d"
      },
      "execution_count": null,
      "outputs": [
        {
          "output_type": "execute_result",
          "data": {
            "text/plain": [
              "       satisfaction_level  last_evaluation  number_project  \\\n",
              "0                   False            False           False   \n",
              "1                   False            False           False   \n",
              "2                   False            False           False   \n",
              "3                   False            False           False   \n",
              "4                   False            False           False   \n",
              "...                   ...              ...             ...   \n",
              "11577               False            False           False   \n",
              "11578               False            False           False   \n",
              "11579               False            False           False   \n",
              "11580               False            False           False   \n",
              "11581               False            False           False   \n",
              "\n",
              "       average_montly_hours  time_spend_company  Work_accident   quit  \\\n",
              "0                     False               False          False  False   \n",
              "1                     False               False          False  False   \n",
              "2                     False               False          False  False   \n",
              "3                     False               False          False  False   \n",
              "4                     False               False          False  False   \n",
              "...                     ...                 ...            ...    ...   \n",
              "11577                 False               False          False  False   \n",
              "11578                 False               False          False  False   \n",
              "11579                 False               False          False  False   \n",
              "11580                 False               False          False  False   \n",
              "11581                 False               False          False  False   \n",
              "\n",
              "       promotion_last_5years  department  salary  \n",
              "0                      False       False   False  \n",
              "1                      False       False   False  \n",
              "2                      False       False   False  \n",
              "3                      False       False   False  \n",
              "4                      False       False   False  \n",
              "...                      ...         ...     ...  \n",
              "11577                  False       False   False  \n",
              "11578                  False       False   False  \n",
              "11579                  False       False   False  \n",
              "11580                  False       False   False  \n",
              "11581                  False       False   False  \n",
              "\n",
              "[11582 rows x 10 columns]"
            ],
            "text/html": [
              "\n",
              "  <div id=\"df-e85e368f-1ff5-4535-9eab-f8b06addd523\" class=\"colab-df-container\">\n",
              "    <div>\n",
              "<style scoped>\n",
              "    .dataframe tbody tr th:only-of-type {\n",
              "        vertical-align: middle;\n",
              "    }\n",
              "\n",
              "    .dataframe tbody tr th {\n",
              "        vertical-align: top;\n",
              "    }\n",
              "\n",
              "    .dataframe thead th {\n",
              "        text-align: right;\n",
              "    }\n",
              "</style>\n",
              "<table border=\"1\" class=\"dataframe\">\n",
              "  <thead>\n",
              "    <tr style=\"text-align: right;\">\n",
              "      <th></th>\n",
              "      <th>satisfaction_level</th>\n",
              "      <th>last_evaluation</th>\n",
              "      <th>number_project</th>\n",
              "      <th>average_montly_hours</th>\n",
              "      <th>time_spend_company</th>\n",
              "      <th>Work_accident</th>\n",
              "      <th>quit</th>\n",
              "      <th>promotion_last_5years</th>\n",
              "      <th>department</th>\n",
              "      <th>salary</th>\n",
              "    </tr>\n",
              "  </thead>\n",
              "  <tbody>\n",
              "    <tr>\n",
              "      <th>0</th>\n",
              "      <td>False</td>\n",
              "      <td>False</td>\n",
              "      <td>False</td>\n",
              "      <td>False</td>\n",
              "      <td>False</td>\n",
              "      <td>False</td>\n",
              "      <td>False</td>\n",
              "      <td>False</td>\n",
              "      <td>False</td>\n",
              "      <td>False</td>\n",
              "    </tr>\n",
              "    <tr>\n",
              "      <th>1</th>\n",
              "      <td>False</td>\n",
              "      <td>False</td>\n",
              "      <td>False</td>\n",
              "      <td>False</td>\n",
              "      <td>False</td>\n",
              "      <td>False</td>\n",
              "      <td>False</td>\n",
              "      <td>False</td>\n",
              "      <td>False</td>\n",
              "      <td>False</td>\n",
              "    </tr>\n",
              "    <tr>\n",
              "      <th>2</th>\n",
              "      <td>False</td>\n",
              "      <td>False</td>\n",
              "      <td>False</td>\n",
              "      <td>False</td>\n",
              "      <td>False</td>\n",
              "      <td>False</td>\n",
              "      <td>False</td>\n",
              "      <td>False</td>\n",
              "      <td>False</td>\n",
              "      <td>False</td>\n",
              "    </tr>\n",
              "    <tr>\n",
              "      <th>3</th>\n",
              "      <td>False</td>\n",
              "      <td>False</td>\n",
              "      <td>False</td>\n",
              "      <td>False</td>\n",
              "      <td>False</td>\n",
              "      <td>False</td>\n",
              "      <td>False</td>\n",
              "      <td>False</td>\n",
              "      <td>False</td>\n",
              "      <td>False</td>\n",
              "    </tr>\n",
              "    <tr>\n",
              "      <th>4</th>\n",
              "      <td>False</td>\n",
              "      <td>False</td>\n",
              "      <td>False</td>\n",
              "      <td>False</td>\n",
              "      <td>False</td>\n",
              "      <td>False</td>\n",
              "      <td>False</td>\n",
              "      <td>False</td>\n",
              "      <td>False</td>\n",
              "      <td>False</td>\n",
              "    </tr>\n",
              "    <tr>\n",
              "      <th>...</th>\n",
              "      <td>...</td>\n",
              "      <td>...</td>\n",
              "      <td>...</td>\n",
              "      <td>...</td>\n",
              "      <td>...</td>\n",
              "      <td>...</td>\n",
              "      <td>...</td>\n",
              "      <td>...</td>\n",
              "      <td>...</td>\n",
              "      <td>...</td>\n",
              "    </tr>\n",
              "    <tr>\n",
              "      <th>11577</th>\n",
              "      <td>False</td>\n",
              "      <td>False</td>\n",
              "      <td>False</td>\n",
              "      <td>False</td>\n",
              "      <td>False</td>\n",
              "      <td>False</td>\n",
              "      <td>False</td>\n",
              "      <td>False</td>\n",
              "      <td>False</td>\n",
              "      <td>False</td>\n",
              "    </tr>\n",
              "    <tr>\n",
              "      <th>11578</th>\n",
              "      <td>False</td>\n",
              "      <td>False</td>\n",
              "      <td>False</td>\n",
              "      <td>False</td>\n",
              "      <td>False</td>\n",
              "      <td>False</td>\n",
              "      <td>False</td>\n",
              "      <td>False</td>\n",
              "      <td>False</td>\n",
              "      <td>False</td>\n",
              "    </tr>\n",
              "    <tr>\n",
              "      <th>11579</th>\n",
              "      <td>False</td>\n",
              "      <td>False</td>\n",
              "      <td>False</td>\n",
              "      <td>False</td>\n",
              "      <td>False</td>\n",
              "      <td>False</td>\n",
              "      <td>False</td>\n",
              "      <td>False</td>\n",
              "      <td>False</td>\n",
              "      <td>False</td>\n",
              "    </tr>\n",
              "    <tr>\n",
              "      <th>11580</th>\n",
              "      <td>False</td>\n",
              "      <td>False</td>\n",
              "      <td>False</td>\n",
              "      <td>False</td>\n",
              "      <td>False</td>\n",
              "      <td>False</td>\n",
              "      <td>False</td>\n",
              "      <td>False</td>\n",
              "      <td>False</td>\n",
              "      <td>False</td>\n",
              "    </tr>\n",
              "    <tr>\n",
              "      <th>11581</th>\n",
              "      <td>False</td>\n",
              "      <td>False</td>\n",
              "      <td>False</td>\n",
              "      <td>False</td>\n",
              "      <td>False</td>\n",
              "      <td>False</td>\n",
              "      <td>False</td>\n",
              "      <td>False</td>\n",
              "      <td>False</td>\n",
              "      <td>False</td>\n",
              "    </tr>\n",
              "  </tbody>\n",
              "</table>\n",
              "<p>11582 rows × 10 columns</p>\n",
              "</div>\n",
              "    <div class=\"colab-df-buttons\">\n",
              "\n",
              "  <div class=\"colab-df-container\">\n",
              "    <button class=\"colab-df-convert\" onclick=\"convertToInteractive('df-e85e368f-1ff5-4535-9eab-f8b06addd523')\"\n",
              "            title=\"Convert this dataframe to an interactive table.\"\n",
              "            style=\"display:none;\">\n",
              "\n",
              "  <svg xmlns=\"http://www.w3.org/2000/svg\" height=\"24px\" viewBox=\"0 -960 960 960\">\n",
              "    <path d=\"M120-120v-720h720v720H120Zm60-500h600v-160H180v160Zm220 220h160v-160H400v160Zm0 220h160v-160H400v160ZM180-400h160v-160H180v160Zm440 0h160v-160H620v160ZM180-180h160v-160H180v160Zm440 0h160v-160H620v160Z\"/>\n",
              "  </svg>\n",
              "    </button>\n",
              "\n",
              "  <style>\n",
              "    .colab-df-container {\n",
              "      display:flex;\n",
              "      gap: 12px;\n",
              "    }\n",
              "\n",
              "    .colab-df-convert {\n",
              "      background-color: #E8F0FE;\n",
              "      border: none;\n",
              "      border-radius: 50%;\n",
              "      cursor: pointer;\n",
              "      display: none;\n",
              "      fill: #1967D2;\n",
              "      height: 32px;\n",
              "      padding: 0 0 0 0;\n",
              "      width: 32px;\n",
              "    }\n",
              "\n",
              "    .colab-df-convert:hover {\n",
              "      background-color: #E2EBFA;\n",
              "      box-shadow: 0px 1px 2px rgba(60, 64, 67, 0.3), 0px 1px 3px 1px rgba(60, 64, 67, 0.15);\n",
              "      fill: #174EA6;\n",
              "    }\n",
              "\n",
              "    .colab-df-buttons div {\n",
              "      margin-bottom: 4px;\n",
              "    }\n",
              "\n",
              "    [theme=dark] .colab-df-convert {\n",
              "      background-color: #3B4455;\n",
              "      fill: #D2E3FC;\n",
              "    }\n",
              "\n",
              "    [theme=dark] .colab-df-convert:hover {\n",
              "      background-color: #434B5C;\n",
              "      box-shadow: 0px 1px 3px 1px rgba(0, 0, 0, 0.15);\n",
              "      filter: drop-shadow(0px 1px 2px rgba(0, 0, 0, 0.3));\n",
              "      fill: #FFFFFF;\n",
              "    }\n",
              "  </style>\n",
              "\n",
              "    <script>\n",
              "      const buttonEl =\n",
              "        document.querySelector('#df-e85e368f-1ff5-4535-9eab-f8b06addd523 button.colab-df-convert');\n",
              "      buttonEl.style.display =\n",
              "        google.colab.kernel.accessAllowed ? 'block' : 'none';\n",
              "\n",
              "      async function convertToInteractive(key) {\n",
              "        const element = document.querySelector('#df-e85e368f-1ff5-4535-9eab-f8b06addd523');\n",
              "        const dataTable =\n",
              "          await google.colab.kernel.invokeFunction('convertToInteractive',\n",
              "                                                    [key], {});\n",
              "        if (!dataTable) return;\n",
              "\n",
              "        const docLinkHtml = 'Like what you see? Visit the ' +\n",
              "          '<a target=\"_blank\" href=https://colab.research.google.com/notebooks/data_table.ipynb>data table notebook</a>'\n",
              "          + ' to learn more about interactive tables.';\n",
              "        element.innerHTML = '';\n",
              "        dataTable['output_type'] = 'display_data';\n",
              "        await google.colab.output.renderOutput(dataTable, element);\n",
              "        const docLink = document.createElement('div');\n",
              "        docLink.innerHTML = docLinkHtml;\n",
              "        element.appendChild(docLink);\n",
              "      }\n",
              "    </script>\n",
              "  </div>\n",
              "\n",
              "\n",
              "<div id=\"df-354c17fc-50d1-474f-ae8c-12dd13f247fc\">\n",
              "  <button class=\"colab-df-quickchart\" onclick=\"quickchart('df-354c17fc-50d1-474f-ae8c-12dd13f247fc')\"\n",
              "            title=\"Suggest charts.\"\n",
              "            style=\"display:none;\">\n",
              "\n",
              "<svg xmlns=\"http://www.w3.org/2000/svg\" height=\"24px\"viewBox=\"0 0 24 24\"\n",
              "     width=\"24px\">\n",
              "    <g>\n",
              "        <path d=\"M19 3H5c-1.1 0-2 .9-2 2v14c0 1.1.9 2 2 2h14c1.1 0 2-.9 2-2V5c0-1.1-.9-2-2-2zM9 17H7v-7h2v7zm4 0h-2V7h2v10zm4 0h-2v-4h2v4z\"/>\n",
              "    </g>\n",
              "</svg>\n",
              "  </button>\n",
              "\n",
              "<style>\n",
              "  .colab-df-quickchart {\n",
              "      --bg-color: #E8F0FE;\n",
              "      --fill-color: #1967D2;\n",
              "      --hover-bg-color: #E2EBFA;\n",
              "      --hover-fill-color: #174EA6;\n",
              "      --disabled-fill-color: #AAA;\n",
              "      --disabled-bg-color: #DDD;\n",
              "  }\n",
              "\n",
              "  [theme=dark] .colab-df-quickchart {\n",
              "      --bg-color: #3B4455;\n",
              "      --fill-color: #D2E3FC;\n",
              "      --hover-bg-color: #434B5C;\n",
              "      --hover-fill-color: #FFFFFF;\n",
              "      --disabled-bg-color: #3B4455;\n",
              "      --disabled-fill-color: #666;\n",
              "  }\n",
              "\n",
              "  .colab-df-quickchart {\n",
              "    background-color: var(--bg-color);\n",
              "    border: none;\n",
              "    border-radius: 50%;\n",
              "    cursor: pointer;\n",
              "    display: none;\n",
              "    fill: var(--fill-color);\n",
              "    height: 32px;\n",
              "    padding: 0;\n",
              "    width: 32px;\n",
              "  }\n",
              "\n",
              "  .colab-df-quickchart:hover {\n",
              "    background-color: var(--hover-bg-color);\n",
              "    box-shadow: 0 1px 2px rgba(60, 64, 67, 0.3), 0 1px 3px 1px rgba(60, 64, 67, 0.15);\n",
              "    fill: var(--button-hover-fill-color);\n",
              "  }\n",
              "\n",
              "  .colab-df-quickchart-complete:disabled,\n",
              "  .colab-df-quickchart-complete:disabled:hover {\n",
              "    background-color: var(--disabled-bg-color);\n",
              "    fill: var(--disabled-fill-color);\n",
              "    box-shadow: none;\n",
              "  }\n",
              "\n",
              "  .colab-df-spinner {\n",
              "    border: 2px solid var(--fill-color);\n",
              "    border-color: transparent;\n",
              "    border-bottom-color: var(--fill-color);\n",
              "    animation:\n",
              "      spin 1s steps(1) infinite;\n",
              "  }\n",
              "\n",
              "  @keyframes spin {\n",
              "    0% {\n",
              "      border-color: transparent;\n",
              "      border-bottom-color: var(--fill-color);\n",
              "      border-left-color: var(--fill-color);\n",
              "    }\n",
              "    20% {\n",
              "      border-color: transparent;\n",
              "      border-left-color: var(--fill-color);\n",
              "      border-top-color: var(--fill-color);\n",
              "    }\n",
              "    30% {\n",
              "      border-color: transparent;\n",
              "      border-left-color: var(--fill-color);\n",
              "      border-top-color: var(--fill-color);\n",
              "      border-right-color: var(--fill-color);\n",
              "    }\n",
              "    40% {\n",
              "      border-color: transparent;\n",
              "      border-right-color: var(--fill-color);\n",
              "      border-top-color: var(--fill-color);\n",
              "    }\n",
              "    60% {\n",
              "      border-color: transparent;\n",
              "      border-right-color: var(--fill-color);\n",
              "    }\n",
              "    80% {\n",
              "      border-color: transparent;\n",
              "      border-right-color: var(--fill-color);\n",
              "      border-bottom-color: var(--fill-color);\n",
              "    }\n",
              "    90% {\n",
              "      border-color: transparent;\n",
              "      border-bottom-color: var(--fill-color);\n",
              "    }\n",
              "  }\n",
              "</style>\n",
              "\n",
              "  <script>\n",
              "    async function quickchart(key) {\n",
              "      const quickchartButtonEl =\n",
              "        document.querySelector('#' + key + ' button');\n",
              "      quickchartButtonEl.disabled = true;  // To prevent multiple clicks.\n",
              "      quickchartButtonEl.classList.add('colab-df-spinner');\n",
              "      try {\n",
              "        const charts = await google.colab.kernel.invokeFunction(\n",
              "            'suggestCharts', [key], {});\n",
              "      } catch (error) {\n",
              "        console.error('Error during call to suggestCharts:', error);\n",
              "      }\n",
              "      quickchartButtonEl.classList.remove('colab-df-spinner');\n",
              "      quickchartButtonEl.classList.add('colab-df-quickchart-complete');\n",
              "    }\n",
              "    (() => {\n",
              "      let quickchartButtonEl =\n",
              "        document.querySelector('#df-354c17fc-50d1-474f-ae8c-12dd13f247fc button');\n",
              "      quickchartButtonEl.style.display =\n",
              "        google.colab.kernel.accessAllowed ? 'block' : 'none';\n",
              "    })();\n",
              "  </script>\n",
              "</div>\n",
              "    </div>\n",
              "  </div>\n"
            ]
          },
          "metadata": {},
          "execution_count": 14
        }
      ]
    },
    {
      "cell_type": "code",
      "source": [
        "print(\".................................................LABEL ENCODING.......................................................\")\n",
        "#import label encoding modle\n",
        "from sklearn import preprocessing\n",
        "s=preprocessing.LabelEncoder()\n",
        "a[\"department\"]=s.fit_transform(a[\"department\"])\n",
        "a[\"salary\"]=s.fit_transform(a[\"salary\"])"
      ],
      "metadata": {
        "id": "nlgZE2cbdt6k",
        "colab": {
          "base_uri": "https://localhost:8080/"
        },
        "outputId": "bd2e3f52-4b53-4c09-a12f-d7cf00009e6d"
      },
      "execution_count": null,
      "outputs": [
        {
          "output_type": "stream",
          "name": "stdout",
          "text": [
            ".................................................LABEL ENCODING.......................................................\n"
          ]
        }
      ]
    },
    {
      "cell_type": "code",
      "source": [
        "a[\"department\"].unique()"
      ],
      "metadata": {
        "colab": {
          "base_uri": "https://localhost:8080/"
        },
        "id": "KGi4XklBcwwB",
        "outputId": "601f594f-12c3-46e0-8566-c42686aef5ce"
      },
      "execution_count": null,
      "outputs": [
        {
          "output_type": "execute_result",
          "data": {
            "text/plain": [
              "array([ 8,  3,  4, 10,  9,  5,  1,  7,  6,  2,  0])"
            ]
          },
          "metadata": {},
          "execution_count": 16
        }
      ]
    },
    {
      "cell_type": "code",
      "source": [
        "a[\"salary\"].unique()"
      ],
      "metadata": {
        "colab": {
          "base_uri": "https://localhost:8080/"
        },
        "id": "udKNfMpffxbp",
        "outputId": "6e4022d1-56b4-48f5-fe5c-a0a6ef604d07"
      },
      "execution_count": null,
      "outputs": [
        {
          "output_type": "execute_result",
          "data": {
            "text/plain": [
              "array([2, 3, 1, 0])"
            ]
          },
          "metadata": {},
          "execution_count": 17
        }
      ]
    },
    {
      "cell_type": "code",
      "source": [
        "print(\"******************************************DATA VISUALIZATION**********************************************************\")\n",
        "print(\".......................................*******MATPLOT********.......................................................\")\n",
        "from matplotlib import pyplot as plt\n",
        "plt.plot(a[\"department\"],a[\"salary\"])\n",
        "plt.show()\n",
        "print(\".........................................*******SCATTER*********........................................\")\n",
        "plt.scatter(a[\"department\"],a[\"salary\"])\n",
        "plt.show()\n",
        "print(\"...........................................********BAR*******........................................\")\n",
        "plt.bar(a[\"department\"],a[\"salary\"])\n",
        "plt.show()\n"
      ],
      "metadata": {
        "colab": {
          "base_uri": "https://localhost:8080/",
          "height": 1345
        },
        "id": "F9Y3AfWCgZ-x",
        "outputId": "4fabb9ca-cdc9-4e06-d6fd-bfded59937cb"
      },
      "execution_count": null,
      "outputs": [
        {
          "output_type": "stream",
          "name": "stdout",
          "text": [
            "******************************************DATA VISUALIZATION**********************************************************\n",
            ".......................................*******MATPLOT********.......................................................\n"
          ]
        },
        {
          "output_type": "display_data",
          "data": {
            "text/plain": [
              "<Figure size 640x480 with 1 Axes>"
            ],
            "image/png": "[encoded data removed]"
          },
          "metadata": {}
        },
        {
          "output_type": "stream",
          "name": "stdout",
          "text": [
            ".........................................*******SCATTER*********........................................\n"
          ]
        },
        {
          "output_type": "display_data",
          "data": {
            "text/plain": [
              "<Figure size 640x480 with 1 Axes>"
            ],
            "image/png": "[encoded data removed]"
          },
          "metadata": {}
        },
        {
          "output_type": "stream",
          "name": "stdout",
          "text": [
            "...........................................********BAR*******........................................\n"
          ]
        },
        {
          "output_type": "display_data",
          "data": {
            "text/plain": [
              "<Figure size 640x480 with 1 Axes>"
            ],
            "image/png": "[encoded data removed]"
          },
          "metadata": {}
        }
      ]
    },
    {
      "cell_type": "code",
      "source": [
        "print(\".................................*******HISTOGRAM*******....................................\")\n",
        "plt.hist(a[\"salary\"])"
      ],
      "metadata": {
        "colab": {
          "base_uri": "https://localhost:8080/",
          "height": 537
        },
        "id": "mog8dYaohGfO",
        "outputId": "40d7193c-8cd3-4f28-c474-9bff8bad91b6"
      },
      "execution_count": null,
      "outputs": [
        {
          "output_type": "stream",
          "name": "stdout",
          "text": [
            ".................................*******HISTOGRAM*******....................................\n"
          ]
        },
        {
          "output_type": "execute_result",
          "data": {
            "text/plain": [
              "(array([1.000e+00, 0.000e+00, 0.000e+00, 9.010e+02, 0.000e+00, 0.000e+00,\n",
              "        5.583e+03, 0.000e+00, 0.000e+00, 5.097e+03]),\n",
              " array([0. , 0.3, 0.6, 0.9, 1.2, 1.5, 1.8, 2.1, 2.4, 2.7, 3. ]),\n",
              " <BarContainer object of 10 artists>)"
            ]
          },
          "metadata": {},
          "execution_count": 19
        },
        {
          "output_type": "display_data",
          "data": {
            "text/plain": [
              "<Figure size 640x480 with 1 Axes>"
            ],
            "image/png": "[encoded data removed]"
          },
          "metadata": {}
        }
      ]
    },
    {
      "cell_type": "code",
      "source": [
        "print(\"********************************************SEABORN***********************************************\")\n",
        "import seaborn as sd\n",
        "print(\"...............................*******LMPLOT*******.......................................\")\n",
        "sd.lmplot(x=\"department\",y=\"salary\",data=a)\n",
        "plt.show()\n",
        "print(\"...................................*******BARPLOT*******........................................\")\n",
        "sd.barplot(x=\"department\",y=\"salary\",data=a)\n",
        "plt.show()\n",
        "print(\"................................*******BOXPLOT********.........................................\")\n",
        "sd.boxplot(x=\"department\",y=\"salary\",data=a)\n",
        "plt.show()\n",
        "print(\".................................*******DISTPLOT********...................................\")\n",
        "sd.distplot(a.salary)\n",
        "plt.show()"
      ],
      "metadata": {
        "colab": {
          "base_uri": "https://localhost:8080/",
          "height": 2100
        },
        "id": "z7XkhvZehdT9",
        "outputId": "149d4112-0f45-4e50-90b3-1d3d63398430"
      },
      "execution_count": null,
      "outputs": [
        {
          "output_type": "stream",
          "name": "stdout",
          "text": [
            "********************************************SEABORN***********************************************\n",
            "...............................*******LMPLOT*******.......................................\n"
          ]
        },
        {
          "output_type": "display_data",
          "data": {
            "text/plain": [
              "<Figure size 500x500 with 1 Axes>"
            ],
            "image/png": "[encoded data removed]"
          },
          "metadata": {}
        },
        {
          "output_type": "stream",
          "name": "stdout",
          "text": [
            "...................................*******BARPLOT*******........................................\n"
          ]
        },
        {
          "output_type": "display_data",
          "data": {
            "text/plain": [
              "<Figure size 640x480 with 1 Axes>"
            ],
            "image/png": "[encoded data removed]"
          },
          "metadata": {}
        },
        {
          "output_type": "stream",
          "name": "stdout",
          "text": [
            "................................*******BOXPLOT********.........................................\n"
          ]
        },
        {
          "output_type": "display_data",
          "data": {
            "text/plain": [
              "<Figure size 640x480 with 1 Axes>"
            ],
            "image/png": "[encoded data removed]"
          },
          "metadata": {}
        },
        {
          "output_type": "stream",
          "name": "stdout",
          "text": [
            ".................................*******DISTPLOT********...................................\n"
          ]
        },
        {
          "output_type": "stream",
          "name": "stderr",
          "text": [
            "<ipython-input-20-e5dac744ab36>:13: UserWarning: \n",
            "\n",
            "`distplot` is a deprecated function and will be removed in seaborn v0.14.0.\n",
            "\n",
            "Please adapt your code to use either `displot` (a figure-level function with\n",
            "similar flexibility) or `histplot` (an axes-level function for histograms).\n",
            "\n",
            "For a guide to updating your code to use the new functions, please see\n",
            "https://gist.github.com/mwaskom/de44147ed2974457ad6372750bbe5751\n",
            "\n",
            "  sd.distplot(a.salary)\n"
          ]
        },
        {
          "output_type": "display_data",
          "data": {
            "text/plain": [
              "<Figure size 640x480 with 1 Axes>"
            ],
            "image/png": "[encoded data removed]"
          },
          "metadata": {}
        }
      ]
    },
    {
      "cell_type": "code",
      "source": [
        "print(\"************************************************FEATURES******************************************************\")\n",
        "x=a.iloc[:,:-1]\n",
        "print(x)"
      ],
      "metadata": {
        "colab": {
          "base_uri": "https://localhost:8080/"
        },
        "id": "cV-0J8CeiPLx",
        "outputId": "f62c7131-6942-45f4-d0b6-e70bef218168"
      },
      "execution_count": null,
      "outputs": [
        {
          "output_type": "stream",
          "name": "stdout",
          "text": [
            "************************************************FEATURES******************************************************\n",
            "       satisfaction_level  last_evaluation  number_project  \\\n",
            "0                    0.38             0.53               2   \n",
            "1                    0.80             0.86               5   \n",
            "2                    0.11             0.88               7   \n",
            "3                    0.72             0.87               5   \n",
            "4                    0.37             0.52               2   \n",
            "...                   ...              ...             ...   \n",
            "11577                0.55             0.78               4   \n",
            "11578                0.76             0.56               5   \n",
            "11579                0.53             0.99               3   \n",
            "11580                0.51             0.86               3   \n",
            "11581                0.57             0.93               2   \n",
            "\n",
            "       average_montly_hours  time_spend_company  Work_accident  quit  \\\n",
            "0                       157                   3              0     1   \n",
            "1                       262                   6              0     1   \n",
            "2                       272                   4              0     1   \n",
            "3                       223                   5              0     1   \n",
            "4                       159                   3              0     1   \n",
            "...                     ...                 ...            ...   ...   \n",
            "11577                   261                   3              0     0   \n",
            "11578                   222                  10              0     0   \n",
            "11579                   223                  10              0     0   \n",
            "11580                   182                  10              0     0   \n",
            "11581                   204                  10              0     0   \n",
            "\n",
            "       promotion_last_5years  department  \n",
            "0                        0.0           8  \n",
            "1                        0.0           8  \n",
            "2                        0.0           8  \n",
            "3                        0.0           8  \n",
            "4                        0.0           8  \n",
            "...                      ...         ...  \n",
            "11577                    0.0           5  \n",
            "11578                    0.0           5  \n",
            "11579                    0.0           6  \n",
            "11580                    0.0           8  \n",
            "11581                    0.0           0  \n",
            "\n",
            "[11582 rows x 9 columns]\n"
          ]
        }
      ]
    },
    {
      "cell_type": "code",
      "source": [
        "print(\"***********************************************TARGET*****************************************************\")\n",
        "y=a[\"salary\"]\n",
        "print(y)"
      ],
      "metadata": {
        "colab": {
          "base_uri": "https://localhost:8080/"
        },
        "id": "FbJTVLFgjgnC",
        "outputId": "b3292a90-6454-4852-9980-6de806dc8658"
      },
      "execution_count": null,
      "outputs": [
        {
          "output_type": "stream",
          "name": "stdout",
          "text": [
            "***********************************************TARGET*****************************************************\n",
            "0        2\n",
            "1        3\n",
            "2        3\n",
            "3        2\n",
            "4        2\n",
            "        ..\n",
            "11577    1\n",
            "11578    1\n",
            "11579    2\n",
            "11580    2\n",
            "11581    0\n",
            "Name: salary, Length: 11582, dtype: int64\n"
          ]
        }
      ]
    },
    {
      "cell_type": "code",
      "source": [
        "print(\"*************************************************DATA SPLITING****************************************************\")\n",
        "from sklearn.model_selection import train_test_split\n",
        "x_train, x_test,y_train,y_test=train_test_split(x,y,test_size=0.20,shuffle=True)\n",
        "print(x_train)\n",
        "print(x_test)\n"
      ],
      "metadata": {
        "colab": {
          "base_uri": "https://localhost:8080/"
        },
        "id": "lB9HDmdojwsf",
        "outputId": "a83ea658-5429-47a0-ada5-8f791b3ec345"
      },
      "execution_count": null,
      "outputs": [
        {
          "output_type": "stream",
          "name": "stdout",
          "text": [
            "*************************************************DATA SPLITING****************************************************\n",
            "       satisfaction_level  last_evaluation  number_project  \\\n",
            "2038                 0.51             0.80               3   \n",
            "11300                0.77             0.76               6   \n",
            "10154                0.72             0.66               3   \n",
            "1824                 0.44             0.51               2   \n",
            "2484                 0.94             0.89               4   \n",
            "...                   ...              ...             ...   \n",
            "10736                0.87             0.93               3   \n",
            "986                  0.36             0.50               2   \n",
            "5338                 0.73             0.86               4   \n",
            "1749                 0.09             0.91               6   \n",
            "5736                 0.72             0.89               3   \n",
            "\n",
            "       average_montly_hours  time_spend_company  Work_accident  quit  \\\n",
            "2038                    218                   2              1     0   \n",
            "11300                   263                   6              0     0   \n",
            "10154                   134                   3              0     0   \n",
            "1824                    152                   3              0     1   \n",
            "2484                    239                   3              0     0   \n",
            "...                     ...                 ...            ...   ...   \n",
            "10736                   173                   2              0     0   \n",
            "986                     158                   3              0     1   \n",
            "5338                    138                   2              0     0   \n",
            "1749                    243                   4              0     1   \n",
            "5736                    221                   3              0     0   \n",
            "\n",
            "       promotion_last_5years  department  \n",
            "2038                     0.0           9  \n",
            "11300                    0.0           8  \n",
            "10154                    0.0           3  \n",
            "1824                     0.0           7  \n",
            "2484                     0.0          10  \n",
            "...                      ...         ...  \n",
            "10736                    0.0           9  \n",
            "986                      0.0           2  \n",
            "5338                     0.0           2  \n",
            "1749                     0.0           7  \n",
            "5736                     0.0           8  \n",
            "\n",
            "[9265 rows x 9 columns]\n",
            "       satisfaction_level  last_evaluation  number_project  \\\n",
            "3756                 0.96             0.81               4   \n",
            "5676                 0.73             0.54               3   \n",
            "4404                 0.54             0.81               4   \n",
            "4456                 0.63             0.56               4   \n",
            "843                  0.66             0.47               7   \n",
            "...                   ...              ...             ...   \n",
            "10908                0.47             0.46               2   \n",
            "4626                 0.49             0.79               4   \n",
            "427                  0.55             0.60               3   \n",
            "3471                 0.95             0.93               3   \n",
            "7906                 0.23             0.80               5   \n",
            "\n",
            "       average_montly_hours  time_spend_company  Work_accident  quit  \\\n",
            "3756                    211                   3              0     0   \n",
            "5676                    150                   3              0     0   \n",
            "4404                    257                   2              0     0   \n",
            "4456                    228                   3              0     0   \n",
            "843                     156                   2              0     1   \n",
            "...                     ...                 ...            ...   ...   \n",
            "10908                   152                   2              0     0   \n",
            "4626                    158                   3              0     0   \n",
            "427                     180                   4              0     1   \n",
            "3471                    209                   2              0     0   \n",
            "7906                    139                   3              0     0   \n",
            "\n",
            "       promotion_last_5years  department  \n",
            "3756                     0.0           8  \n",
            "5676                     0.0           8  \n",
            "4404                     0.0           9  \n",
            "4456                     0.0           3  \n",
            "843                      0.0           5  \n",
            "...                      ...         ...  \n",
            "10908                    0.0           1  \n",
            "4626                     0.0           9  \n",
            "427                      0.0          10  \n",
            "3471                     0.0          10  \n",
            "7906                     0.0           9  \n",
            "\n",
            "[2317 rows x 9 columns]\n"
          ]
        }
      ]
    },
    {
      "cell_type": "code",
      "source": [
        "print(\"**************************************************DATA CLASSFICATION******************************************\")\n",
        "print(\".................................*******LOGISTIC REGRESSION*******................................\")\n",
        "from sklearn.linear_model import LogisticRegression\n",
        "from sklearn.metrics import accuracy_score\n",
        "s=LogisticRegression()\n",
        "s.fit(x_train,y_train)\n",
        "predictions=s.predict(x_test)\n",
        "print(\"Accuracy:\",accuracy_score(y_test,predictions))\n"
      ],
      "metadata": {
        "colab": {
          "base_uri": "https://localhost:8080/"
        },
        "id": "od-7Qg9vlDCR",
        "outputId": "9213b827-ea53-4c15-8dc5-049cede80913"
      },
      "execution_count": null,
      "outputs": [
        {
          "output_type": "stream",
          "name": "stdout",
          "text": [
            "**************************************************DATA CLASSFICATION******************************************\n",
            ".................................*******LOGISTIC REGRESSION*******................................\n",
            "Accuracy: 0.5062580923608114\n"
          ]
        },
        {
          "output_type": "stream",
          "name": "stderr",
          "text": [
            "/usr/local/lib/python3.10/dist-packages/sklearn/linear_model/_logistic.py:458: ConvergenceWarning: lbfgs failed to converge (status=1):\n",
            "STOP: TOTAL NO. of ITERATIONS REACHED LIMIT.\n",
            "\n",
            "Increase the number of iterations (max_iter) or scale the data as shown in:\n",
            "    https://scikit-learn.org/stable/modules/preprocessing.html\n",
            "Please also refer to the documentation for alternative solver options:\n",
            "    https://scikit-learn.org/stable/modules/linear_model.html#logistic-regression\n",
            "  n_iter_i = _check_optimize_result(\n"
          ]
        }
      ]
    },
    {
      "cell_type": "code",
      "source": [
        "print(\".................................................CONFUSION MATRICS................................................\")\n",
        "from sklearn.metrics import confusion_matrix\n",
        "confusion_matrix(y_test,predictions)"
      ],
      "metadata": {
        "colab": {
          "base_uri": "https://localhost:8080/"
        },
        "id": "aDOwq8rNmXj5",
        "outputId": "c4a2af47-e817-42e6-d29d-9e08e5b130f2"
      },
      "execution_count": null,
      "outputs": [
        {
          "output_type": "stream",
          "name": "stdout",
          "text": [
            ".................................................CONFUSION MATRICS................................................\n"
          ]
        },
        {
          "output_type": "execute_result",
          "data": {
            "text/plain": [
              "array([[  0,   0,   0,   1],\n",
              "       [  0,   0,  79,  94],\n",
              "       [  0,   0, 683, 435],\n",
              "       [  0,   0, 535, 490]])"
            ]
          },
          "metadata": {},
          "execution_count": 25
        }
      ]
    },
    {
      "cell_type": "code",
      "source": [
        "print(\"......................................................CLASSIFICATION REPORT...........................................\")\n",
        "from sklearn.metrics import classification_report\n",
        "print(classification_report(y_test,predictions))"
      ],
      "metadata": {
        "colab": {
          "base_uri": "https://localhost:8080/"
        },
        "id": "dZAnzwb-mtCb",
        "outputId": "a7f7885f-5699-4884-f369-4fdf742c6f57"
      },
      "execution_count": null,
      "outputs": [
        {
          "output_type": "stream",
          "name": "stdout",
          "text": [
            "......................................................CLASSIFICATION REPORT...........................................\n",
            "              precision    recall  f1-score   support\n",
            "\n",
            "           0       0.00      0.00      0.00         1\n",
            "           1       0.00      0.00      0.00       173\n",
            "           2       0.53      0.61      0.57      1118\n",
            "           3       0.48      0.48      0.48      1025\n",
            "\n",
            "    accuracy                           0.51      2317\n",
            "   macro avg       0.25      0.27      0.26      2317\n",
            "weighted avg       0.47      0.51      0.48      2317\n",
            "\n"
          ]
        },
        {
          "output_type": "stream",
          "name": "stderr",
          "text": [
            "/usr/local/lib/python3.10/dist-packages/sklearn/metrics/_classification.py:1344: UndefinedMetricWarning: Precision and F-score are ill-defined and being set to 0.0 in labels with no predicted samples. Use `zero_division` parameter to control this behavior.\n",
            "  _warn_prf(average, modifier, msg_start, len(result))\n",
            "/usr/local/lib/python3.10/dist-packages/sklearn/metrics/_classification.py:1344: UndefinedMetricWarning: Precision and F-score are ill-defined and being set to 0.0 in labels with no predicted samples. Use `zero_division` parameter to control this behavior.\n",
            "  _warn_prf(average, modifier, msg_start, len(result))\n",
            "/usr/local/lib/python3.10/dist-packages/sklearn/metrics/_classification.py:1344: UndefinedMetricWarning: Precision and F-score are ill-defined and being set to 0.0 in labels with no predicted samples. Use `zero_division` parameter to control this behavior.\n",
            "  _warn_prf(average, modifier, msg_start, len(result))\n"
          ]
        }
      ]
    },
    {
      "cell_type": "code",
      "source": [
        "print(\".....................................**********DECISION TREE*********.....................................\")\n",
        "from sklearn.tree import DecisionTreeClassifier\n",
        "s=DecisionTreeClassifier()\n",
        "s.fit(x_train,y_train)\n",
        "predictions=s.predict(x_test)\n",
        "print(\"Accuracy:\",accuracy_score(y_test,predictions))\n"
      ],
      "metadata": {
        "colab": {
          "base_uri": "https://localhost:8080/"
        },
        "id": "aa8AJBZrnFB8",
        "outputId": "70dffe46-c159-4779-d2e0-12a7eb21a246"
      },
      "execution_count": null,
      "outputs": [
        {
          "output_type": "stream",
          "name": "stdout",
          "text": [
            ".....................................**********DECISION TREE*********.....................................\n",
            "Accuracy: 0.44540353905912816\n"
          ]
        }
      ]
    },
    {
      "cell_type": "code",
      "source": [
        "print(\"............................................CONFUSION MATERICS.........................................\")\n",
        "from sklearn.metrics import confusion_matrix\n",
        "confusion_matrix(y_test,predictions)"
      ],
      "metadata": {
        "colab": {
          "base_uri": "https://localhost:8080/"
        },
        "id": "I6sZJF5wnxBy",
        "outputId": "013e36eb-2bf5-4ca5-9076-fdb05db33ea1"
      },
      "execution_count": null,
      "outputs": [
        {
          "output_type": "stream",
          "name": "stdout",
          "text": [
            "............................................CONFUSION MATERICS.........................................\n"
          ]
        },
        {
          "output_type": "execute_result",
          "data": {
            "text/plain": [
              "array([[  0,   0,   0,   1],\n",
              "       [  0,  13,  90,  70],\n",
              "       [  0, 105, 540, 473],\n",
              "       [  0,  93, 453, 479]])"
            ]
          },
          "metadata": {},
          "execution_count": 28
        }
      ]
    },
    {
      "cell_type": "code",
      "source": [
        "print(\"............................................CLASSIFICATION REPORT..........................................\")\n",
        "from sklearn.metrics import classification_report\n",
        "print(classification_report(y_test,predictions))"
      ],
      "metadata": {
        "colab": {
          "base_uri": "https://localhost:8080/"
        },
        "id": "3HtOBODmoAM3",
        "outputId": "b2cec7df-5534-4bdd-d51d-1a4d4309a055"
      },
      "execution_count": null,
      "outputs": [
        {
          "output_type": "stream",
          "name": "stdout",
          "text": [
            "............................................CLASSIFICATION REPORT..........................................\n",
            "              precision    recall  f1-score   support\n",
            "\n",
            "           0       0.00      0.00      0.00         1\n",
            "           1       0.06      0.08      0.07       173\n",
            "           2       0.50      0.48      0.49      1118\n",
            "           3       0.47      0.47      0.47      1025\n",
            "\n",
            "    accuracy                           0.45      2317\n",
            "   macro avg       0.26      0.26      0.26      2317\n",
            "weighted avg       0.45      0.45      0.45      2317\n",
            "\n"
          ]
        },
        {
          "output_type": "stream",
          "name": "stderr",
          "text": [
            "/usr/local/lib/python3.10/dist-packages/sklearn/metrics/_classification.py:1344: UndefinedMetricWarning: Precision and F-score are ill-defined and being set to 0.0 in labels with no predicted samples. Use `zero_division` parameter to control this behavior.\n",
            "  _warn_prf(average, modifier, msg_start, len(result))\n",
            "/usr/local/lib/python3.10/dist-packages/sklearn/metrics/_classification.py:1344: UndefinedMetricWarning: Precision and F-score are ill-defined and being set to 0.0 in labels with no predicted samples. Use `zero_division` parameter to control this behavior.\n",
            "  _warn_prf(average, modifier, msg_start, len(result))\n",
            "/usr/local/lib/python3.10/dist-packages/sklearn/metrics/_classification.py:1344: UndefinedMetricWarning: Precision and F-score are ill-defined and being set to 0.0 in labels with no predicted samples. Use `zero_division` parameter to control this behavior.\n",
            "  _warn_prf(average, modifier, msg_start, len(result))\n"
          ]
        }
      ]
    },
    {
      "cell_type": "code",
      "source": [
        "print(\"..................................*******RANDOM FOREST CLASSIFIER*******................................\")\n",
        "from sklearn.ensemble import RandomForestClassifier\n",
        "s=RandomForestClassifier()\n",
        "s.fit(x_train,y_train)\n",
        "predictions=s.predict(x_test)\n",
        "print(\"Accuracy:\",accuracy_score(y_test,predictions))\n",
        "\n"
      ],
      "metadata": {
        "colab": {
          "base_uri": "https://localhost:8080/"
        },
        "id": "AR92juMiobHt",
        "outputId": "de0697e7-49f7-420b-db3b-96c4f71edf9a"
      },
      "execution_count": null,
      "outputs": [
        {
          "output_type": "stream",
          "name": "stdout",
          "text": [
            "..................................*******RANDOM FOREST CLASSIFIER*******................................\n",
            "Accuracy: 0.4600776866637894\n"
          ]
        }
      ]
    },
    {
      "cell_type": "code",
      "source": [
        "print(\".............................................CONFUSION MATERICS............................................\")\n",
        "from sklearn.metrics import confusion_matrix\n",
        "confusion_matrix(y_test,predictions)"
      ],
      "metadata": {
        "colab": {
          "base_uri": "https://localhost:8080/"
        },
        "id": "RHYyGxbGoweS",
        "outputId": "9e25ea22-3598-488f-aaf6-c58c26ac45db"
      },
      "execution_count": null,
      "outputs": [
        {
          "output_type": "stream",
          "name": "stdout",
          "text": [
            ".............................................CONFUSION MATERICS............................................\n"
          ]
        },
        {
          "output_type": "execute_result",
          "data": {
            "text/plain": [
              "array([[  0,   0,   0,   1],\n",
              "       [  0,   2,  95,  76],\n",
              "       [  0,   1, 606, 511],\n",
              "       [  0,   5, 562, 458]])"
            ]
          },
          "metadata": {},
          "execution_count": 31
        }
      ]
    },
    {
      "cell_type": "code",
      "source": [
        "print(\"............................................CLASSIFICATION REPORT..........................................\")\n",
        "from sklearn.metrics import classification_report\n",
        "print(classification_report(y_test,predictions))"
      ],
      "metadata": {
        "colab": {
          "base_uri": "https://localhost:8080/"
        },
        "id": "77BlPLdvpJpK",
        "outputId": "a37fdcb8-4272-4274-d0c4-6960cdc01e56"
      },
      "execution_count": null,
      "outputs": [
        {
          "output_type": "stream",
          "name": "stdout",
          "text": [
            "............................................CLASSIFICATION REPORT..........................................\n",
            "              precision    recall  f1-score   support\n",
            "\n",
            "           0       0.00      0.00      0.00         1\n",
            "           1       0.25      0.01      0.02       173\n",
            "           2       0.48      0.54      0.51      1118\n",
            "           3       0.44      0.45      0.44      1025\n",
            "\n",
            "    accuracy                           0.46      2317\n",
            "   macro avg       0.29      0.25      0.24      2317\n",
            "weighted avg       0.44      0.46      0.44      2317\n",
            "\n"
          ]
        },
        {
          "output_type": "stream",
          "name": "stderr",
          "text": [
            "/usr/local/lib/python3.10/dist-packages/sklearn/metrics/_classification.py:1344: UndefinedMetricWarning: Precision and F-score are ill-defined and being set to 0.0 in labels with no predicted samples. Use `zero_division` parameter to control this behavior.\n",
            "  _warn_prf(average, modifier, msg_start, len(result))\n",
            "/usr/local/lib/python3.10/dist-packages/sklearn/metrics/_classification.py:1344: UndefinedMetricWarning: Precision and F-score are ill-defined and being set to 0.0 in labels with no predicted samples. Use `zero_division` parameter to control this behavior.\n",
            "  _warn_prf(average, modifier, msg_start, len(result))\n",
            "/usr/local/lib/python3.10/dist-packages/sklearn/metrics/_classification.py:1344: UndefinedMetricWarning: Precision and F-score are ill-defined and being set to 0.0 in labels with no predicted samples. Use `zero_division` parameter to control this behavior.\n",
            "  _warn_prf(average, modifier, msg_start, len(result))\n"
          ]
        }
      ]
    },
    {
      "cell_type": "code",
      "source": [
        "print(\"....................................*******NAIVE BAYES*******........................................\")\n",
        "from sklearn.naive_bayes import GaussianNB\n",
        "s=GaussianNB()\n",
        "s.fit(x_train,y_train)\n",
        "predictions=s.predict(x_test)\n",
        "print(\"Accuracy:\",accuracy_score(y_test,predictions))\n"
      ],
      "metadata": {
        "colab": {
          "base_uri": "https://localhost:8080/"
        },
        "id": "hgkcxf0BpgFG",
        "outputId": "6f768293-c956-40a2-cb59-2674e72155cc"
      },
      "execution_count": null,
      "outputs": [
        {
          "output_type": "stream",
          "name": "stdout",
          "text": [
            "....................................*******NAIVE BAYES*******........................................\n",
            "Accuracy: 0.4842468709538196\n"
          ]
        }
      ]
    },
    {
      "cell_type": "code",
      "source": [
        "print(\".............................................CONFUSION MATERICS............................................\")\n",
        "from sklearn.metrics import confusion_matrix\n",
        "confusion_matrix(y_test,predictions)"
      ],
      "metadata": {
        "colab": {
          "base_uri": "https://localhost:8080/"
        },
        "id": "MAFfHS3eqv13",
        "outputId": "2e56c1df-ab92-4db8-8021-7d8d5d1d9172"
      },
      "execution_count": null,
      "outputs": [
        {
          "output_type": "stream",
          "name": "stdout",
          "text": [
            ".............................................CONFUSION MATERICS............................................\n"
          ]
        },
        {
          "output_type": "execute_result",
          "data": {
            "text/plain": [
              "array([[   0,    1,    0,    0],\n",
              "       [   0,    7,  161,    5],\n",
              "       [   0,    6, 1103,    9],\n",
              "       [   0,   27,  986,   12]])"
            ]
          },
          "metadata": {},
          "execution_count": 34
        }
      ]
    },
    {
      "cell_type": "code",
      "source": [
        "print(\"............................................CLASSIFICATION REPORT..........................................\")\n",
        "from sklearn.metrics import classification_report\n",
        "print(classification_report(y_test,predictions))"
      ],
      "metadata": {
        "colab": {
          "base_uri": "https://localhost:8080/"
        },
        "id": "_rUXeG-orAJZ",
        "outputId": "5d4a60a0-bd1e-4133-88da-9e4ef44d9aa9"
      },
      "execution_count": null,
      "outputs": [
        {
          "output_type": "stream",
          "name": "stdout",
          "text": [
            "............................................CLASSIFICATION REPORT..........................................\n",
            "              precision    recall  f1-score   support\n",
            "\n",
            "           0       0.00      0.00      0.00         1\n",
            "           1       0.17      0.04      0.07       173\n",
            "           2       0.49      0.99      0.65      1118\n",
            "           3       0.46      0.01      0.02      1025\n",
            "\n",
            "    accuracy                           0.48      2317\n",
            "   macro avg       0.28      0.26      0.19      2317\n",
            "weighted avg       0.45      0.48      0.33      2317\n",
            "\n"
          ]
        },
        {
          "output_type": "stream",
          "name": "stderr",
          "text": [
            "/usr/local/lib/python3.10/dist-packages/sklearn/metrics/_classification.py:1344: UndefinedMetricWarning: Precision and F-score are ill-defined and being set to 0.0 in labels with no predicted samples. Use `zero_division` parameter to control this behavior.\n",
            "  _warn_prf(average, modifier, msg_start, len(result))\n",
            "/usr/local/lib/python3.10/dist-packages/sklearn/metrics/_classification.py:1344: UndefinedMetricWarning: Precision and F-score are ill-defined and being set to 0.0 in labels with no predicted samples. Use `zero_division` parameter to control this behavior.\n",
            "  _warn_prf(average, modifier, msg_start, len(result))\n",
            "/usr/local/lib/python3.10/dist-packages/sklearn/metrics/_classification.py:1344: UndefinedMetricWarning: Precision and F-score are ill-defined and being set to 0.0 in labels with no predicted samples. Use `zero_division` parameter to control this behavior.\n",
            "  _warn_prf(average, modifier, msg_start, len(result))\n"
          ]
        }
      ]
    },
    {
      "cell_type": "code",
      "source": [
        "print(\"........................................*******SVM*******............................................\")\n",
        "from sklearn import svm\n",
        "s=svm.SVC()\n",
        "s.fit(x_train,y_train)\n",
        "predictions=s.predict(x_test)\n",
        "print(\"Accuracy:\",accuracy_score(y_test,predictions))"
      ],
      "metadata": {
        "colab": {
          "base_uri": "https://localhost:8080/"
        },
        "id": "FwIpZUIkrmFL",
        "outputId": "4c9b57ec-58bd-462a-c930-397903d5e2ec"
      },
      "execution_count": null,
      "outputs": [
        {
          "output_type": "stream",
          "name": "stdout",
          "text": [
            "........................................*******SVM*******............................................\n",
            "Accuracy: 0.4825205006473889\n"
          ]
        }
      ]
    },
    {
      "cell_type": "code",
      "source": [
        "print(\".............................................CONFUSION MATERICS............................................\")\n",
        "from sklearn.metrics import confusion_matrix\n",
        "confusion_matrix(y_test,predictions)"
      ],
      "metadata": {
        "colab": {
          "base_uri": "https://localhost:8080/"
        },
        "id": "vp9nx2XirzyK",
        "outputId": "1b9a628a-b266-4d15-d309-5b12d6d88860"
      },
      "execution_count": null,
      "outputs": [
        {
          "output_type": "stream",
          "name": "stdout",
          "text": [
            ".............................................CONFUSION MATERICS............................................\n"
          ]
        },
        {
          "output_type": "execute_result",
          "data": {
            "text/plain": [
              "array([[   0,    0,    1,    0],\n",
              "       [   0,    0,  173,    0],\n",
              "       [   0,    0, 1118,    0],\n",
              "       [   0,    0, 1025,    0]])"
            ]
          },
          "metadata": {},
          "execution_count": 37
        }
      ]
    },
    {
      "cell_type": "code",
      "source": [
        "print(\"............................................CLASSIFICATION REPORT..........................................\")\n",
        "from sklearn.metrics import classification_report\n",
        "print(classification_report(y_test,predictions))"
      ],
      "metadata": {
        "colab": {
          "base_uri": "https://localhost:8080/"
        },
        "id": "hzD_XG7usHlm",
        "outputId": "5491e7b2-6603-4f4f-a4a2-335703280bf7"
      },
      "execution_count": null,
      "outputs": [
        {
          "output_type": "stream",
          "name": "stdout",
          "text": [
            "............................................CLASSIFICATION REPORT..........................................\n",
            "              precision    recall  f1-score   support\n",
            "\n",
            "           0       0.00      0.00      0.00         1\n",
            "           1       0.00      0.00      0.00       173\n",
            "           2       0.48      1.00      0.65      1118\n",
            "           3       0.00      0.00      0.00      1025\n",
            "\n",
            "    accuracy                           0.48      2317\n",
            "   macro avg       0.12      0.25      0.16      2317\n",
            "weighted avg       0.23      0.48      0.31      2317\n",
            "\n"
          ]
        },
        {
          "output_type": "stream",
          "name": "stderr",
          "text": [
            "/usr/local/lib/python3.10/dist-packages/sklearn/metrics/_classification.py:1344: UndefinedMetricWarning: Precision and F-score are ill-defined and being set to 0.0 in labels with no predicted samples. Use `zero_division` parameter to control this behavior.\n",
            "  _warn_prf(average, modifier, msg_start, len(result))\n",
            "/usr/local/lib/python3.10/dist-packages/sklearn/metrics/_classification.py:1344: UndefinedMetricWarning: Precision and F-score are ill-defined and being set to 0.0 in labels with no predicted samples. Use `zero_division` parameter to control this behavior.\n",
            "  _warn_prf(average, modifier, msg_start, len(result))\n",
            "/usr/local/lib/python3.10/dist-packages/sklearn/metrics/_classification.py:1344: UndefinedMetricWarning: Precision and F-score are ill-defined and being set to 0.0 in labels with no predicted samples. Use `zero_division` parameter to control this behavior.\n",
            "  _warn_prf(average, modifier, msg_start, len(result))\n"
          ]
        }
      ]
    },
    {
      "cell_type": "code",
      "source": [
        "print(\"...........................................*******KNN*******.............................................\")\n",
        "from sklearn.neighbors import KNeighborsClassifier\n",
        "s=KNeighborsClassifier()\n",
        "s.fit(x_train,y_train)\n",
        "predictions=s.predict(x_test)\n",
        "print(\"Accuracy:\",accuracy_score(y_test,predictions))\n"
      ],
      "metadata": {
        "colab": {
          "base_uri": "https://localhost:8080/"
        },
        "id": "dusc_kGv0rh1",
        "outputId": "2d59dcc9-136e-4367-bca7-b7b703ca1d44"
      },
      "execution_count": null,
      "outputs": [
        {
          "output_type": "stream",
          "name": "stdout",
          "text": [
            "...........................................*******KNN*******.............................................\n",
            "Accuracy: 0.4518774277082434\n"
          ]
        }
      ]
    },
    {
      "cell_type": "code",
      "source": [
        "print(\".............................................CONFUSION MATERICS............................................\")\n",
        "from sklearn.metrics import confusion_matrix\n",
        "confusion_matrix(y_test,predictions)"
      ],
      "metadata": {
        "colab": {
          "base_uri": "https://localhost:8080/"
        },
        "id": "Q8O6Q4tq1ap4",
        "outputId": "fe678785-afe2-4fcd-fcfb-de4cebe64a53"
      },
      "execution_count": null,
      "outputs": [
        {
          "output_type": "stream",
          "name": "stdout",
          "text": [
            ".............................................CONFUSION MATERICS............................................\n"
          ]
        },
        {
          "output_type": "execute_result",
          "data": {
            "text/plain": [
              "array([[  0,   0,   0,   1],\n",
              "       [  0,   8,  98,  67],\n",
              "       [  0,  42, 643, 433],\n",
              "       [  0,  47, 582, 396]])"
            ]
          },
          "metadata": {},
          "execution_count": 40
        }
      ]
    },
    {
      "cell_type": "code",
      "source": [
        "print(\"............................................CLASSIFICATION REPORT....................................\")\n",
        "from sklearn.metrics import classification_report\n",
        "print(classification_report(y_test,predictions))"
      ],
      "metadata": {
        "colab": {
          "base_uri": "https://localhost:8080/"
        },
        "id": "Q7J9un1D1qbG",
        "outputId": "97894dae-4049-4d99-8703-e71817509317"
      },
      "execution_count": null,
      "outputs": [
        {
          "output_type": "stream",
          "name": "stdout",
          "text": [
            "............................................CLASSIFICATION REPORT....................................\n",
            "              precision    recall  f1-score   support\n",
            "\n",
            "           0       0.00      0.00      0.00         1\n",
            "           1       0.08      0.05      0.06       173\n",
            "           2       0.49      0.58      0.53      1118\n",
            "           3       0.44      0.39      0.41      1025\n",
            "\n",
            "    accuracy                           0.45      2317\n",
            "   macro avg       0.25      0.25      0.25      2317\n",
            "weighted avg       0.44      0.45      0.44      2317\n",
            "\n"
          ]
        },
        {
          "output_type": "stream",
          "name": "stderr",
          "text": [
            "/usr/local/lib/python3.10/dist-packages/sklearn/metrics/_classification.py:1344: UndefinedMetricWarning: Precision and F-score are ill-defined and being set to 0.0 in labels with no predicted samples. Use `zero_division` parameter to control this behavior.\n",
            "  _warn_prf(average, modifier, msg_start, len(result))\n",
            "/usr/local/lib/python3.10/dist-packages/sklearn/metrics/_classification.py:1344: UndefinedMetricWarning: Precision and F-score are ill-defined and being set to 0.0 in labels with no predicted samples. Use `zero_division` parameter to control this behavior.\n",
            "  _warn_prf(average, modifier, msg_start, len(result))\n",
            "/usr/local/lib/python3.10/dist-packages/sklearn/metrics/_classification.py:1344: UndefinedMetricWarning: Precision and F-score are ill-defined and being set to 0.0 in labels with no predicted samples. Use `zero_division` parameter to control this behavior.\n",
            "  _warn_prf(average, modifier, msg_start, len(result))\n"
          ]
        }
      ]
    }
  ]
}